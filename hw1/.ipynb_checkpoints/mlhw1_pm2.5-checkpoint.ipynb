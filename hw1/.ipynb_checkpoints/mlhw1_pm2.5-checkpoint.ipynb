{
 "cells": [
  {
   "cell_type": "markdown",
   "metadata": {},
   "source": [
    "# 資料準備(TA code)"
   ]
  },
  {
   "cell_type": "code",
   "execution_count": 2,
   "metadata": {
    "collapsed": false
   },
   "outputs": [],
   "source": [
    "import csv \n",
    "import numpy as np\n",
    "import pandas as pd\n",
    "import matplotlib.pyplot as plt\n",
    "\n",
    "data = pd.read_csv(\"train.csv\",encoding='big5')\n",
    "data = data.replace('NR', 0)\n",
    "\n",
    "train_Rdata = data.drop(data.columns[[0, 1, 2]], axis=1).apply(pd.to_numeric).as_matrix()"
   ]
  },
  {
   "cell_type": "code",
   "execution_count": 3,
   "metadata": {
    "collapsed": false
   },
   "outputs": [],
   "source": [
    "train_Rdata = data.drop(data.columns[[0, 1, 2]], axis=1).apply(pd.to_numeric).as_matrix()\n",
    "data1 = train_Rdata[0::18,:].reshape(1, 5760)\n",
    "data2 = train_Rdata[1::18,:].reshape(1, 5760)\n",
    "data3 = train_Rdata[2::18,:].reshape(1, 5760)\n",
    "data4 = train_Rdata[3::18,:].reshape(1, 5760)\n",
    "data5 = train_Rdata[4::18,:].reshape(1, 5760)\n",
    "data6 = train_Rdata[5::18,:].reshape(1, 5760)\n",
    "data7 = train_Rdata[6::18,:].reshape(1, 5760)\n",
    "data8 = train_Rdata[7::18,:].reshape(1, 5760)\n",
    "data9 = train_Rdata[8::18,:].reshape(1, 5760)\n",
    "data10 = train_Rdata[9::18,:].reshape(1, 5760)\n",
    "data11 = train_Rdata[10::18,:].reshape(1, 5760)\n",
    "data12 = train_Rdata[11::18,:].reshape(1, 5760)\n",
    "data13 = train_Rdata[12::18,:].reshape(1, 5760)\n",
    "data14 = train_Rdata[13::18,:].reshape(1, 5760)\n",
    "data15 = train_Rdata[14::18,:].reshape(1, 5760)\n",
    "data16 = train_Rdata[15::18,:].reshape(1, 5760)\n",
    "data17 = train_Rdata[16::18,:].reshape(1, 5760)\n",
    "data18 = train_Rdata[17::18,:].reshape(1, 5760)\n",
    "\n",
    "train_data = np.vstack((data1, data2, data3, data4, data5, data6, data7, data8, data9, data10, data11, data12, data13, data14, data15, data16, data17, data18))\n",
    "\n"
   ]
  },
  {
   "cell_type": "code",
   "execution_count": 70,
   "metadata": {
    "collapsed": false
   },
   "outputs": [
    {
     "data": {
      "text/plain": [
       "(951, 163)"
      ]
     },
     "execution_count": 70,
     "metadata": {},
     "output_type": "execute_result"
    }
   ],
   "source": [
    "Q3_x.shape"
   ]
  },
  {
   "cell_type": "markdown",
   "metadata": {},
   "source": [
    "# one month"
   ]
  },
  {
   "cell_type": "code",
   "execution_count": 100,
   "metadata": {
    "collapsed": false
   },
   "outputs": [],
   "source": [
    "Q2_1_x = [] #features 共5751組 一組有163個 第一個是1跟bias相乘\n",
    "Q2_1_y = [] #PM2.5 answer\n",
    "\n",
    "Q2_1_y.append(train_data[9, 9:480])\n",
    "Q2_1_y= np.asarray(Q2_1_y).reshape(471, 1)\n",
    "\n",
    "\n",
    "for t in range(471):\n",
    "    Q2_1_x.append(1)\n",
    "    for j in range(18):\n",
    "        for i in range(9):\n",
    "            Q2_1_x.append(train_data[j,i+t])\n",
    "            \n",
    "Q2_1_x = np.asarray(Q2_1_x).reshape(471, 163)\n"
   ]
  },
  {
   "cell_type": "code",
   "execution_count": 101,
   "metadata": {
    "collapsed": false
   },
   "outputs": [
    {
     "name": "stdout",
     "output_type": "stream",
     "text": [
      "6.90375788548\n"
     ]
    }
   ],
   "source": [
    "Q2_1_wei = np.zeros((163,1))\n",
    "Q2_1_lr = 0.05\n",
    "iteration = 80000\n",
    "pre_gra = 0\n",
    "\n",
    "for p in range(iteration):\n",
    "    gradient = np.zeros_like(Q2_1_wei)\n",
    "    gradient = (2*(Q2_1_x.dot(Q2_1_wei) - Q2_1_y).T.dot(Q2_1_x).T)\n",
    "    pre_gra += gradient**2\n",
    "    adg = np.sqrt(pre_gra)\n",
    "    Q2_1_wei = Q2_1_wei - Q2_1_lr/adg*gradient\n",
    "    \n",
    "\n",
    "Q2_result1 = np.sqrt(np.mean(np.square(Q2_1_y - Q2_1_x.dot(wei))))\n",
    "print(np.sqrt(np.mean(np.square(Q2_1_y - Q2_1_x.dot(wei)))))"
   ]
  },
  {
   "cell_type": "markdown",
   "metadata": {},
   "source": [
    "# two month"
   ]
  },
  {
   "cell_type": "code",
   "execution_count": 102,
   "metadata": {
    "collapsed": false
   },
   "outputs": [],
   "source": [
    "Q2_2_x= [] #features 共5751組 一組有163個 第一個是1跟bias相乘\n",
    "Q2_2_y = [] #PM2.5 answer\n",
    "\n",
    "Q2_2_y.append(train_data[9, 9:960])\n",
    "Q2_2_y= np.asarray(Q2_2_y).reshape(951, 1)\n",
    "\n",
    "\n",
    "for t in range(951):\n",
    "    Q2_2_x.append(1)\n",
    "    for j in range(18):\n",
    "        for i in range(9):\n",
    "            Q2_2_x.append(train_data[j,i+t])\n",
    "            \n",
    "Q2_2_x = np.asarray(Q2_2_x).reshape(951, 163)"
   ]
  },
  {
   "cell_type": "code",
   "execution_count": 103,
   "metadata": {
    "collapsed": false
   },
   "outputs": [
    {
     "name": "stdout",
     "output_type": "stream",
     "text": [
      "5.74945790661\n"
     ]
    }
   ],
   "source": [
    "Q2_2_wei = np.zeros((163,1))\n",
    "Q2_2_lr = 0.05\n",
    "iteration = 80000\n",
    "pre_gra = 0\n",
    "\n",
    "for p in range(iteration):\n",
    "    gradient = np.zeros_like(Q2_2_wei)\n",
    "    gradient = (2*(Q2_2_x.dot(Q2_2_wei) - Q2_2_y).T.dot(Q2_2_x).T)\n",
    "    pre_gra += gradient**2\n",
    "    adg = np.sqrt(pre_gra)\n",
    "    Q2_2_wei = Q2_2_wei - Q2_2_lr/adg*gradient\n",
    "\n",
    "Q2_result2 = np.sqrt(np.mean(np.square(Q2_2_y - Q2_2_x.dot(Q2_2_wei))))\n",
    "print(np.sqrt(np.mean(np.square(Q2_2_y - Q2_2_x.dot(Q2_2_wei)))))"
   ]
  },
  {
   "cell_type": "markdown",
   "metadata": {},
   "source": [
    "# three month"
   ]
  },
  {
   "cell_type": "code",
   "execution_count": 104,
   "metadata": {
    "collapsed": true
   },
   "outputs": [],
   "source": [
    "Q2_3_x= [] #features 共5751組 一組有163個 第一個是1跟bias相乘\n",
    "Q2_3_y = [] #PM2.5 answer\n",
    "\n",
    "Q2_3_y.append(train_data[9, 9:1440])\n",
    "Q2_3_y= np.asarray(Q2_3_y).reshape(1431, 1)\n",
    "\n",
    "\n",
    "for t in range(1431):\n",
    "    Q2_3_x.append(1)\n",
    "    for j in range(18):\n",
    "        for i in range(9):\n",
    "            Q2_3_x.append(train_data[j,i+t])\n",
    "            \n",
    "Q2_3_x = np.asarray(Q2_3_x).reshape(1431, 163)"
   ]
  },
  {
   "cell_type": "code",
   "execution_count": 105,
   "metadata": {
    "collapsed": false,
    "scrolled": true
   },
   "outputs": [
    {
     "name": "stdout",
     "output_type": "stream",
     "text": [
      "5.82759451448\n"
     ]
    }
   ],
   "source": [
    "Q2_3_wei = np.zeros((163,1))\n",
    "Q2_3_lr = 0.05\n",
    "iteration = 80000\n",
    "pre_gra = 0\n",
    "\n",
    "for p in range(iteration):\n",
    "    gradient = np.zeros_like(Q2_3_wei)\n",
    "    gradient = (2*(Q2_3_x.dot(Q2_3_wei) - Q2_3_y).T.dot(Q2_3_x).T)\n",
    "    pre_gra += gradient**2\n",
    "    adg = np.sqrt(pre_gra)\n",
    "    Q2_3_wei = Q2_3_wei - Q2_3_lr/adg*gradient\n",
    "\n",
    "Q2_result3 = np.sqrt(np.mean(np.square(Q2_3_y - Q2_3_x.dot(Q2_3_wei))))\n",
    "print(np.sqrt(np.mean(np.square(Q2_3_y - Q2_3_x.dot(Q2_3_wei)))))"
   ]
  },
  {
   "cell_type": "markdown",
   "metadata": {},
   "source": [
    "# four month"
   ]
  },
  {
   "cell_type": "code",
   "execution_count": 106,
   "metadata": {
    "collapsed": true
   },
   "outputs": [],
   "source": [
    "Q2_4_x= [] #features 共5751組 一組有163個 第一個是1跟bias相乘\n",
    "Q2_4_y = [] #PM2.5 answer\n",
    "\n",
    "Q2_4_y.append(train_data[9, 9:1920])\n",
    "Q2_4_y= np.asarray(Q2_4_y).reshape(1911, 1)\n",
    "\n",
    "\n",
    "for t in range(1911):\n",
    "    Q2_4_x.append(1)\n",
    "    for j in range(18):\n",
    "        for i in range(9):\n",
    "            Q2_4_x.append(train_data[j,i+t])\n",
    "            \n",
    "Q2_4_x = np.asarray(Q2_4_x).reshape(1911, 163)"
   ]
  },
  {
   "cell_type": "code",
   "execution_count": 107,
   "metadata": {
    "collapsed": false
   },
   "outputs": [
    {
     "name": "stdout",
     "output_type": "stream",
     "text": [
      "6.00603545075\n"
     ]
    }
   ],
   "source": [
    "Q2_4_wei = np.zeros((163,1))\n",
    "Q2_4_lr = 0.05\n",
    "iteration = 80000\n",
    "pre_gra = 0\n",
    "\n",
    "for p in range(iteration):\n",
    "    gradient = np.zeros_like(Q2_4_wei)\n",
    "    gradient = (2*(Q2_4_x.dot(Q2_4_wei) - Q2_4_y).T.dot(Q2_4_x).T)\n",
    "    pre_gra += gradient**2\n",
    "    adg = np.sqrt(pre_gra)\n",
    "    Q2_4_wei = Q2_4_wei - Q2_4_lr/adg*gradient\n",
    "    \n",
    "Q2_result4 = np.sqrt(np.mean(np.square(Q2_4_y - Q2_4_x.dot(Q2_4_wei))))\n",
    "print(np.sqrt(np.mean(np.square(Q2_4_y - Q2_4_x.dot(Q2_4_wei)))))"
   ]
  },
  {
   "cell_type": "markdown",
   "metadata": {},
   "source": [
    "# five month"
   ]
  },
  {
   "cell_type": "code",
   "execution_count": 108,
   "metadata": {
    "collapsed": true
   },
   "outputs": [],
   "source": [
    "Q2_5_x= [] #features 共5751組 一組有163個 第一個是1跟bias相乘\n",
    "Q2_5_y = [] #PM2.5 answer\n",
    "\n",
    "Q2_5_y.append(train_data[9, 9:2400])\n",
    "Q2_5_y= np.asarray(Q2_5_y).reshape(2391, 1)\n",
    "\n",
    "\n",
    "for t in range(2391):\n",
    "    Q2_5_x.append(1)\n",
    "    for j in range(18):\n",
    "        for i in range(9):\n",
    "            Q2_5_x.append(train_data[j,i+t])\n",
    "            \n",
    "Q2_5_x = np.asarray(Q2_5_x).reshape(2391, 163)"
   ]
  },
  {
   "cell_type": "code",
   "execution_count": 109,
   "metadata": {
    "collapsed": false
   },
   "outputs": [
    {
     "name": "stdout",
     "output_type": "stream",
     "text": [
      "5.86152680158\n"
     ]
    }
   ],
   "source": [
    "Q2_5_wei = np.zeros((163,1))\n",
    "Q2_5_lr = 0.05\n",
    "iteration = 80000\n",
    "pre_gra = 0\n",
    "\n",
    "for p in range(iteration):\n",
    "    gradient = np.zeros_like(Q2_5_wei)\n",
    "    gradient = (2*(Q2_5_x.dot(Q2_5_wei) - Q2_5_y).T.dot(Q2_5_x).T)\n",
    "    pre_gra += gradient**2\n",
    "    adg = np.sqrt(pre_gra)\n",
    "    Q2_5_wei = Q2_5_wei - Q2_5_lr/adg*gradient\n",
    "\n",
    "Q2_result5 = np.sqrt(np.mean(np.square(Q2_5_y - Q2_5_x.dot(Q2_5_wei))))\n",
    "print(np.sqrt(np.mean(np.square(Q2_5_y - Q2_5_x.dot(Q2_5_wei)))))"
   ]
  },
  {
   "cell_type": "markdown",
   "metadata": {},
   "source": [
    "# six month"
   ]
  },
  {
   "cell_type": "code",
   "execution_count": 110,
   "metadata": {
    "collapsed": true
   },
   "outputs": [],
   "source": [
    "Q2_6_x= [] #features 共5751組 一組有163個 第一個是1跟bias相乘\n",
    "Q2_6_y = [] #PM2.5 answer\n",
    "\n",
    "Q2_6_y.append(train_data[9, 9:2880])\n",
    "Q2_6_y= np.asarray(Q2_6_y).reshape(2871, 1)\n",
    "\n",
    "\n",
    "for t in range(2871):\n",
    "    Q2_6_x.append(1)\n",
    "    for j in range(18):\n",
    "        for i in range(9):\n",
    "            Q2_6_x.append(train_data[j,i+t])\n",
    "            \n",
    "Q2_6_x = np.asarray(Q2_6_x).reshape(2871, 163)"
   ]
  },
  {
   "cell_type": "code",
   "execution_count": 111,
   "metadata": {
    "collapsed": false
   },
   "outputs": [
    {
     "name": "stdout",
     "output_type": "stream",
     "text": [
      "5.7302060073\n"
     ]
    }
   ],
   "source": [
    "Q2_6_wei = np.zeros((163,1))\n",
    "Q2_6_lr = 0.05\n",
    "iteration = 80000\n",
    "pre_gra = 0\n",
    "\n",
    "for p in range(iteration):\n",
    "    gradient = np.zeros_like(Q2_6_wei)\n",
    "    gradient = (2*(Q2_6_x.dot(Q2_6_wei) - Q2_6_y).T.dot(Q2_6_x).T)\n",
    "    pre_gra += gradient**2\n",
    "    adg = np.sqrt(pre_gra)\n",
    "    Q2_6_wei = Q2_6_wei - Q2_6_lr/adg*gradient\n",
    "\n",
    "Q2_result6 = np.sqrt(np.mean(np.square(Q2_6_y - Q2_6_x.dot(Q2_6_wei))))\n",
    "print(np.sqrt(np.mean(np.square(Q2_6_y - Q2_6_x.dot(Q2_6_wei)))))"
   ]
  },
  {
   "cell_type": "markdown",
   "metadata": {},
   "source": [
    "# seven month"
   ]
  },
  {
   "cell_type": "code",
   "execution_count": 112,
   "metadata": {
    "collapsed": true
   },
   "outputs": [],
   "source": [
    "Q2_7_x= [] #features 共5751組 一組有163個 第一個是1跟bias相乘\n",
    "Q2_7_y = [] #PM2.5 answer\n",
    "\n",
    "Q2_7_y.append(train_data[9, 9:3360])\n",
    "Q2_7_y= np.asarray(Q2_7_y).reshape(3351, 1)\n",
    "\n",
    "\n",
    "for t in range(3351):\n",
    "    Q2_7_x.append(1)\n",
    "    for j in range(18):\n",
    "        for i in range(9):\n",
    "            Q2_7_x.append(train_data[j,i+t])\n",
    "            \n",
    "Q2_7_x = np.asarray(Q2_7_x).reshape(3351, 163)"
   ]
  },
  {
   "cell_type": "code",
   "execution_count": 113,
   "metadata": {
    "collapsed": false
   },
   "outputs": [
    {
     "name": "stdout",
     "output_type": "stream",
     "text": [
      "6.11230027267\n"
     ]
    }
   ],
   "source": [
    "Q2_7_wei = np.zeros((163,1))\n",
    "Q2_7_lr = 0.05\n",
    "iteration = 80000\n",
    "pre_gra = 0\n",
    "\n",
    "for p in range(iteration):\n",
    "    gradient = np.zeros_like(Q2_7_wei)\n",
    "    gradient = (2*(Q2_7_x.dot(Q2_7_wei) - Q2_7_y).T.dot(Q2_7_x).T)\n",
    "    pre_gra += gradient**2\n",
    "    adg = np.sqrt(pre_gra)\n",
    "    Q2_7_wei = Q2_7_wei - Q2_7_lr/adg*gradient\n",
    "\n",
    "Q2_result7 = np.sqrt(np.mean(np.square(Q2_7_y - Q2_7_x.dot(Q2_7_wei))))\n",
    "print(np.sqrt(np.mean(np.square(Q2_7_y - Q2_7_x.dot(Q2_7_wei)))))"
   ]
  },
  {
   "cell_type": "markdown",
   "metadata": {},
   "source": [
    "# eight month"
   ]
  },
  {
   "cell_type": "code",
   "execution_count": 114,
   "metadata": {
    "collapsed": false
   },
   "outputs": [],
   "source": [
    "Q2_8_x= [] #features 共5751組 一組有163個 第一個是1跟bias相乘\n",
    "Q2_8_y = [] #PM2.5 answer\n",
    "\n",
    "Q2_8_y.append(train_data[9, 9:3840])\n",
    "Q2_8_y= np.asarray(Q2_8_y).reshape(3831, 1)\n",
    "\n",
    "\n",
    "for t in range(3831):\n",
    "    Q2_8_x.append(1)\n",
    "    for j in range(18):\n",
    "        for i in range(9):\n",
    "            Q2_8_x.append(train_data[j,i+t])\n",
    "          \n",
    "Q2_8_x = np.asarray(Q2_8_x).reshape(3831, 163)"
   ]
  },
  {
   "cell_type": "code",
   "execution_count": 115,
   "metadata": {
    "collapsed": false
   },
   "outputs": [
    {
     "name": "stdout",
     "output_type": "stream",
     "text": [
      "5.94774483413\n"
     ]
    }
   ],
   "source": [
    "Q2_8_wei = np.zeros((163,1))\n",
    "Q2_8_lr = 0.05\n",
    "iteration = 80000\n",
    "pre_gra = 0\n",
    "\n",
    "for p in range(iteration):\n",
    "    gradient = np.zeros_like(Q2_8_wei)\n",
    "    gradient = (2*(Q2_8_x.dot(Q2_8_wei) - Q2_8_y).T.dot(Q2_8_x).T)\n",
    "    pre_gra += gradient**2\n",
    "    adg = np.sqrt(pre_gra)\n",
    "    Q2_8_wei = Q2_8_wei - Q2_8_lr/adg*gradient\n",
    "\n",
    "Q2_result8 = np.sqrt(np.mean(np.square(Q2_8_y - Q2_8_x.dot(Q2_8_wei))))\n",
    "print(np.sqrt(np.mean(np.square(Q2_8_y - Q2_8_x.dot(Q2_8_wei)))))"
   ]
  },
  {
   "cell_type": "markdown",
   "metadata": {},
   "source": [
    "# nine month"
   ]
  },
  {
   "cell_type": "code",
   "execution_count": 116,
   "metadata": {
    "collapsed": true
   },
   "outputs": [],
   "source": [
    "Q2_9_x= [] #features 共5751組 一組有163個 第一個是1跟bias相乘\n",
    "Q2_9_y = [] #PM2.5 answer\n",
    "\n",
    "Q2_9_y.append(train_data[9, 9:4320])\n",
    "Q2_9_y= np.asarray(Q2_9_y).reshape(4311, 1)\n",
    "\n",
    "\n",
    "for t in range(4311):\n",
    "    Q2_9_x.append(1)\n",
    "    for j in range(18):\n",
    "        for i in range(9):\n",
    "            Q2_9_x.append(train_data[j,i+t])\n",
    "            \n",
    "Q2_9_x = np.asarray(Q2_9_x).reshape(4311, 163)"
   ]
  },
  {
   "cell_type": "code",
   "execution_count": 117,
   "metadata": {
    "collapsed": false
   },
   "outputs": [
    {
     "name": "stdout",
     "output_type": "stream",
     "text": [
      "5.83336910685\n"
     ]
    }
   ],
   "source": [
    "Q2_9_wei = np.zeros((163,1))\n",
    "Q2_9_lr = 0.05\n",
    "iteration = 80000\n",
    "pre_gra = 0\n",
    "\n",
    "for p in range(iteration):\n",
    "    gradient = np.zeros_like(Q2_9_wei)\n",
    "    gradient = (2*(Q2_9_x.dot(Q2_9_wei) - Q2_9_y).T.dot(Q2_9_x).T)\n",
    "    pre_gra += gradient**2\n",
    "    adg = np.sqrt(pre_gra)\n",
    "    Q2_9_wei = Q2_9_wei - Q2_9_lr/adg*gradient\n",
    "\n",
    "Q2_result9 = np.sqrt(np.mean(np.square(Q2_9_y - Q2_9_x.dot(Q2_9_wei))))\n",
    "print(np.sqrt(np.mean(np.square(Q2_9_y - Q2_9_x.dot(Q2_9_wei)))))"
   ]
  },
  {
   "cell_type": "markdown",
   "metadata": {},
   "source": [
    "# ten month"
   ]
  },
  {
   "cell_type": "code",
   "execution_count": 118,
   "metadata": {
    "collapsed": true
   },
   "outputs": [],
   "source": [
    "Q2_10_x= [] #features 共5751組 一組有163個 第一個是1跟bias相乘\n",
    "Q2_10_y = [] #PM2.5 answer\n",
    "\n",
    "Q2_10_y.append(train_data[9, 9:4800])\n",
    "Q2_10_y= np.asarray(Q2_10_y).reshape(4791, 1)\n",
    "\n",
    "\n",
    "for t in range(4791):\n",
    "    Q2_10_x.append(1)\n",
    "    for j in range(18):\n",
    "        for i in range(9):\n",
    "            Q2_10_x.append(train_data[j,i+t])\n",
    "            \n",
    "Q2_10_x = np.asarray(Q2_10_x).reshape(4791, 163)"
   ]
  },
  {
   "cell_type": "code",
   "execution_count": 119,
   "metadata": {
    "collapsed": false
   },
   "outputs": [
    {
     "name": "stdout",
     "output_type": "stream",
     "text": [
      "5.75020315062\n"
     ]
    }
   ],
   "source": [
    "Q2_10_wei = np.zeros((163,1))\n",
    "Q2_10_lr = 0.05\n",
    "iteration = 80000\n",
    "pre_gra = 0\n",
    "\n",
    "for p in range(iteration):\n",
    "    gradient = np.zeros_like(Q2_10_wei)\n",
    "    gradient = (2*(Q2_10_x.dot(Q2_10_wei) - Q2_10_y).T.dot(Q2_10_x).T)\n",
    "    pre_gra += gradient**2\n",
    "    adg = np.sqrt(pre_gra)\n",
    "    Q2_10_wei = Q2_10_wei - Q2_10_lr/adg*gradient\n",
    "    \n",
    "Q2_result10 = np.sqrt(np.mean(np.square(Q2_10_y - Q2_10_x.dot(Q2_10_wei))))\n",
    "print(np.sqrt(np.mean(np.square(Q2_10_y - Q2_10_x.dot(Q2_10_wei)))))"
   ]
  },
  {
   "cell_type": "markdown",
   "metadata": {},
   "source": [
    "# eleven month"
   ]
  },
  {
   "cell_type": "code",
   "execution_count": 120,
   "metadata": {
    "collapsed": true
   },
   "outputs": [],
   "source": [
    "Q2_11_x= [] #features 共5751組 一組有163個 第一個是1跟bias相乘\n",
    "Q2_11_y = [] #PM2.5 answer\n",
    "\n",
    "Q2_11_y.append(train_data[9, 9:5280])\n",
    "Q2_11_y= np.asarray(Q2_11_y).reshape(5271, 1)\n",
    "\n",
    "\n",
    "for t in range(5271):\n",
    "    Q2_11_x.append(1)\n",
    "    for j in range(18):\n",
    "        for i in range(9):\n",
    "            Q2_11_x.append(train_data[j,i+t])\n",
    "            \n",
    "Q2_11_x = np.asarray(Q2_11_x).reshape(5271, 163)"
   ]
  },
  {
   "cell_type": "code",
   "execution_count": 121,
   "metadata": {
    "collapsed": false
   },
   "outputs": [
    {
     "name": "stdout",
     "output_type": "stream",
     "text": [
      "5.84450629661\n"
     ]
    }
   ],
   "source": [
    "Q2_11_wei = np.zeros((163,1))\n",
    "Q2_11_lr = 0.05\n",
    "iteration = 80000\n",
    "pre_gra = 0\n",
    "\n",
    "for p in range(iteration):\n",
    "    gradient = np.zeros_like(Q2_11_wei)\n",
    "    gradient = (2*(Q2_11_x.dot(Q2_11_wei) - Q2_11_y).T.dot(Q2_11_x).T)\n",
    "    pre_gra += gradient**2\n",
    "    adg = np.sqrt(pre_gra)\n",
    "    Q2_11_wei = Q2_11_wei - Q2_11_lr/adg*gradient\n",
    "\n",
    "Q2_result11 = np.sqrt(np.mean(np.square(Q2_11_y - Q2_11_x.dot(Q2_11_wei))))\n",
    "print(np.sqrt(np.mean(np.square(Q2_11_y - Q2_11_x.dot(Q2_11_wei)))))"
   ]
  },
  {
   "cell_type": "markdown",
   "metadata": {},
   "source": [
    "# Q2 plot"
   ]
  },
  {
   "cell_type": "code",
   "execution_count": 128,
   "metadata": {
    "collapsed": false
   },
   "outputs": [
    {
     "data": {
      "image/png": "[encoded data removed]",
      "text/plain": [
       "<matplotlib.figure.Figure at 0x1195f91d0>"
      ]
     },
     "metadata": {},
     "output_type": "display_data"
    }
   ],
   "source": [
    "x_axis = range(12)\n",
    "y_axis = [Q2_result1, Q2_result2, Q2_result3, Q2_result4, Q2_result5, Q2_result6, Q2_result7, Q2_result8, Q2_result9, Q2_result10, Q2_result11, Q2_result12]\n",
    "\n",
    "plt.xlabel('month')\n",
    "plt.ylabel('RMES')\n",
    "plt.plot(x_axis,y_axis)\n",
    "plt.show()"
   ]
  },
  {
   "cell_type": "markdown",
   "metadata": {},
   "source": [
    "# feature scaling"
   ]
  },
  {
   "cell_type": "code",
   "execution_count": 175,
   "metadata": {
    "collapsed": false
   },
   "outputs": [
    {
     "ename": "ValueError",
     "evalue": "could not broadcast input array from shape (5751) into shape (5751,1)",
     "output_type": "error",
     "traceback": [
      "\u001b[0;31m---------------------------------------------------------------------------\u001b[0m",
      "\u001b[0;31mValueError\u001b[0m                                Traceback (most recent call last)",
      "\u001b[0;32m<ipython-input-175-482701e5b035>\u001b[0m in \u001b[0;36m<module>\u001b[0;34m()\u001b[0m\n\u001b[1;32m     11\u001b[0m     \u001b[0;32mreturn\u001b[0m \u001b[0mnormX\u001b[0m\u001b[0;34m,\u001b[0m \u001b[0mmu\u001b[0m\u001b[0;34m,\u001b[0m \u001b[0msigma\u001b[0m\u001b[0;34m\u001b[0m\u001b[0m\n\u001b[1;32m     12\u001b[0m \u001b[0;34m\u001b[0m\u001b[0m\n\u001b[0;32m---> 13\u001b[0;31m \u001b[0mnormX\u001b[0m \u001b[0;34m=\u001b[0m \u001b[0mfeaturescaling\u001b[0m\u001b[0;34m(\u001b[0m\u001b[0mtrain_x\u001b[0m\u001b[0;34m[\u001b[0m\u001b[0;34m:\u001b[0m\u001b[0;34m,\u001b[0m \u001b[0;36m1\u001b[0m\u001b[0;34m:\u001b[0m\u001b[0;34m]\u001b[0m\u001b[0;34m)\u001b[0m\u001b[0;34m\u001b[0m\u001b[0m\n\u001b[0m\u001b[1;32m     14\u001b[0m \u001b[0mfeature_train_x\u001b[0m \u001b[0;34m=\u001b[0m \u001b[0;34m[\u001b[0m\u001b[0;34m]\u001b[0m\u001b[0;34m\u001b[0m\u001b[0m\n\u001b[1;32m     15\u001b[0m \u001b[0mfeature_train_x\u001b[0m\u001b[0;34m[\u001b[0m\u001b[0;34m:\u001b[0m\u001b[0;34m,\u001b[0m \u001b[0;36m1\u001b[0m\u001b[0;34m:\u001b[0m\u001b[0;34m]\u001b[0m \u001b[0;34m=\u001b[0m \u001b[0mnormX\u001b[0m\u001b[0;34m[\u001b[0m\u001b[0;36m0\u001b[0m\u001b[0;34m]\u001b[0m\u001b[0;34m\u001b[0m\u001b[0m\n",
      "\u001b[0;32m<ipython-input-175-482701e5b035>\u001b[0m in \u001b[0;36mfeaturescaling\u001b[0;34m(X)\u001b[0m\n\u001b[1;32m      7\u001b[0m         \u001b[0mmu\u001b[0m\u001b[0;34m[\u001b[0m\u001b[0mi\u001b[0m\u001b[0;34m]\u001b[0m \u001b[0;34m=\u001b[0m \u001b[0mnp\u001b[0m\u001b[0;34m.\u001b[0m\u001b[0mmean\u001b[0m\u001b[0;34m(\u001b[0m\u001b[0mX\u001b[0m\u001b[0;34m[\u001b[0m\u001b[0;34m:\u001b[0m\u001b[0;34m,\u001b[0m \u001b[0mi\u001b[0m\u001b[0;34m]\u001b[0m\u001b[0;34m)\u001b[0m\u001b[0;34m\u001b[0m\u001b[0m\n\u001b[1;32m      8\u001b[0m         \u001b[0msigma\u001b[0m\u001b[0;34m[\u001b[0m\u001b[0mi\u001b[0m\u001b[0;34m]\u001b[0m \u001b[0;34m=\u001b[0m \u001b[0mnp\u001b[0m\u001b[0;34m.\u001b[0m\u001b[0mstd\u001b[0m\u001b[0;34m(\u001b[0m\u001b[0mX\u001b[0m\u001b[0;34m[\u001b[0m\u001b[0;34m:\u001b[0m\u001b[0;34m,\u001b[0m \u001b[0mi\u001b[0m\u001b[0;34m]\u001b[0m\u001b[0;34m)\u001b[0m\u001b[0;34m\u001b[0m\u001b[0m\n\u001b[0;32m----> 9\u001b[0;31m         \u001b[0mnormX\u001b[0m\u001b[0;34m[\u001b[0m\u001b[0;34m:\u001b[0m\u001b[0;34m,\u001b[0m \u001b[0mi\u001b[0m\u001b[0;34m]\u001b[0m \u001b[0;34m=\u001b[0m \u001b[0;34m(\u001b[0m\u001b[0mX\u001b[0m\u001b[0;34m[\u001b[0m\u001b[0;34m:\u001b[0m\u001b[0;34m,\u001b[0m \u001b[0mi\u001b[0m\u001b[0;34m]\u001b[0m \u001b[0;34m-\u001b[0m \u001b[0mmu\u001b[0m\u001b[0;34m[\u001b[0m\u001b[0mi\u001b[0m\u001b[0;34m]\u001b[0m\u001b[0;34m)\u001b[0m \u001b[0;34m/\u001b[0m \u001b[0msigma\u001b[0m\u001b[0;34m[\u001b[0m\u001b[0mi\u001b[0m\u001b[0;34m]\u001b[0m\u001b[0;34m\u001b[0m\u001b[0m\n\u001b[0m\u001b[1;32m     10\u001b[0m \u001b[0;34m\u001b[0m\u001b[0m\n\u001b[1;32m     11\u001b[0m     \u001b[0;32mreturn\u001b[0m \u001b[0mnormX\u001b[0m\u001b[0;34m,\u001b[0m \u001b[0mmu\u001b[0m\u001b[0;34m,\u001b[0m \u001b[0msigma\u001b[0m\u001b[0;34m\u001b[0m\u001b[0m\n",
      "\u001b[0;31mValueError\u001b[0m: could not broadcast input array from shape (5751) into shape (5751,1)"
     ]
    }
   ],
   "source": [
    "def featurescaling(X):\n",
    "    import numpy as np\n",
    "    normX = np.matrix(X, dtype=float)\n",
    "    mu = np.zeros(X.shape[1])\n",
    "    sigma = np.zeros(X.shape[1])\n",
    "    for i in range(X.shape[1]):\n",
    "        mu[i] = np.mean(X[:, i])\n",
    "        sigma[i] = np.std(X[:, i])\n",
    "        normX[:, i] = (X[:, i] - mu[i]) / sigma[i]\n",
    "\n",
    "    return normX, mu, sigma\n",
    "\n",
    "normX = featurescaling(train_x[:, 1:])\n",
    "feature_train_x = []\n",
    "feature_train_x[:, 1:] = normX[0]\n",
    "feature_train_x.shape[1]"
   ]
  },
  {
   "cell_type": "code",
   "execution_count": 176,
   "metadata": {
    "collapsed": false
   },
   "outputs": [
    {
     "data": {
      "text/plain": [
       "(5751, 163)"
      ]
     },
     "execution_count": 176,
     "metadata": {},
     "output_type": "execute_result"
    }
   ],
   "source": [
    "train_x.shape"
   ]
  },
  {
   "cell_type": "markdown",
   "metadata": {},
   "source": [
    "# loss function y = b + w1x1 + w2x2 + w3x3 + ..... + w162x162  5.9007讚讚啦"
   ]
  },
  {
   "cell_type": "code",
   "execution_count": 122,
   "metadata": {
    "collapsed": false
   },
   "outputs": [],
   "source": [
    "train_x = [] #features 共5751組 一組有163個 第一個是1跟bias相乘\n",
    "train_y = [] #PM2.5 answer\n",
    "\n",
    "train_y.append(train_data[9, 9:])\n",
    "train_y= np.asarray(train_y).reshape(5751, 1)\n",
    "\n",
    "for t in range(5751):\n",
    "    train_x.append(1)\n",
    "    for j in range(18):\n",
    "        for i in range(9):\n",
    "            train_x.append(train_data[j,i+t])\n",
    "\n",
    "train_x = np.asarray(train_x).reshape(5751, 163)"
   ]
  },
  {
   "cell_type": "code",
   "execution_count": 42,
   "metadata": {
    "collapsed": false
   },
   "outputs": [
    {
     "data": {
      "text/plain": [
       "array([[  1. ,  14. ,  14. , ...,   2. ,   2. ,   0.5],\n",
       "       [  1. ,  14. ,  14. , ...,   2. ,   0.5,   0.3],\n",
       "       [  1. ,  14. ,  13. , ...,   0.5,   0.3,   0.8],\n",
       "       ..., \n",
       "       [  1. ,  17. ,  18. , ...,   1.1,   1.4,   1.3],\n",
       "       [  1. ,  18. ,  19. , ...,   1.4,   1.3,   1.6],\n",
       "       [  1. ,  19. ,  18. , ...,   1.3,   1.6,   1.8]])"
      ]
     },
     "execution_count": 42,
     "metadata": {},
     "output_type": "execute_result"
    }
   ],
   "source": [
    "train_x"
   ]
  },
  {
   "cell_type": "code",
   "execution_count": 123,
   "metadata": {
    "collapsed": false
   },
   "outputs": [
    {
     "name": "stdout",
     "output_type": "stream",
     "text": [
      "5.8035002089\n"
     ]
    }
   ],
   "source": [
    "wei = np.zeros((163,1))\n",
    "lr = 0.05\n",
    "iteration = 80000\n",
    "pre_gra = 0\n",
    "\n",
    "for p in range(iteration):\n",
    "    gradient = np.zeros_like(wei)\n",
    "    gradient = (2*(train_x.dot(wei) - train_y).T.dot(train_x).T)\n",
    "    pre_gra += gradient**2\n",
    "    adg = np.sqrt(pre_gra)\n",
    "    wei = wei - lr/adg*gradient\n",
    "\n",
    "Q2_result12 = np.sqrt(np.mean(np.square(train_y - train_x.dot(wei))))\n",
    "print(np.sqrt(np.mean(np.square(train_y - train_x.dot(wei)))))"
   ]
  },
  {
   "cell_type": "markdown",
   "metadata": {},
   "source": [
    "# loss function y = b + w1x1 + w2x2 + w3x3 + ..... + w9x9x9"
   ]
  },
  {
   "cell_type": "code",
   "execution_count": 37,
   "metadata": {
    "collapsed": true
   },
   "outputs": [],
   "source": [
    "train_x = [] #features 共5751組 一組有163個 第一個是1跟bias相乘\n",
    "train_y = [] #PM2.5 answer\n",
    "\n",
    "train_y.append(train_data[9, 9:])\n",
    "train_y= np.asarray(train_y).reshape(5751, 1)\n",
    "\n",
    "for t in range(5751):\n",
    "    train_x.append(1)\n",
    "    for j in range(18):\n",
    "        for i in range(9):\n",
    "            train_x.append(train_data[j,i+t])\n",
    "            \n"
   ]
  },
  {
   "cell_type": "code",
   "execution_count": null,
   "metadata": {
    "collapsed": true
   },
   "outputs": [],
   "source": [
    "train_x = np.asarray(train_x).reshape(5751, 163)\n",
    "\n",
    "for j in range(5751):\n",
    "    for i in range(19):\n",
    "        train_x[j][9*i] = train_x[j][9*i]*train_x[j][9*i]"
   ]
  },
  {
   "cell_type": "code",
   "execution_count": 269,
   "metadata": {
    "collapsed": false
   },
   "outputs": [
    {
     "data": {
      "text/plain": [
       "(163, 1)"
      ]
     },
     "execution_count": 269,
     "metadata": {},
     "output_type": "execute_result"
    }
   ],
   "source": [
    "wei.shape"
   ]
  },
  {
   "cell_type": "code",
   "execution_count": 271,
   "metadata": {
    "collapsed": false
   },
   "outputs": [
    {
     "name": "stdout",
     "output_type": "stream",
     "text": [
      "7.4919212582\n"
     ]
    }
   ],
   "source": [
    "wei = np.zeros((163,1))\n",
    "lr = 0.1\n",
    "iteration = 50000\n",
    "pre_gra = 0\n",
    "\n",
    "for p in range(iteration):\n",
    "    gradient = np.zeros_like(wei)\n",
    "    gradient = (2*(train_x.dot(wei) + - train_y).T.dot(train_x).T)\n",
    "    pre_gra += gradient**2\n",
    "    adg = np.sqrt(pre_gra)\n",
    "    wei = wei - lr/adg*gradient\n",
    "    \n",
    "\n",
    "\n",
    "print(np.sqrt(np.mean(np.square(train_yy - train_x.dot(wei)))))"
   ]
  },
  {
   "cell_type": "markdown",
   "metadata": {},
   "source": [
    "\n",
    "# loss function y = b + wx + w1x^2 = (train_x + train_x*train_x).dot(w + w1)"
   ]
  },
  {
   "cell_type": "code",
   "execution_count": 214,
   "metadata": {
    "collapsed": false
   },
   "outputs": [],
   "source": [
    "train_xx = [] #features 共5751組 一組有163個 第一個是1跟bias相乘\n",
    "train_yy = [] #PM2.5 answer\n",
    "\n",
    "train_yy.append(train_data[9, 9:])\n",
    "train_yy= np.asarray(train_yy).reshape(5751, 1)\n",
    "\n",
    "for t in range(5751):\n",
    "    train_xx.append(1)\n",
    "    for j in range(18):\n",
    "        for i in range(9):\n",
    "            train_xx.append(train_data[j,i+t])\n",
    "    for k in range(18):\n",
    "        for l in range(9):\n",
    "            train_xx.append(train_data[k,l+t]*train_data[k,l+t])\n",
    "\n",
    "train_xx = np.asarray(train_xx).reshape(5751, 325)\n"
   ]
  },
  {
   "cell_type": "code",
   "execution_count": 200,
   "metadata": {
    "collapsed": false,
    "scrolled": true
   },
   "outputs": [
    {
     "name": "stdout",
     "output_type": "stream",
     "text": [
      "range(1, 12)\n"
     ]
    }
   ],
   "source": [
    "print(range(1,12))"
   ]
  },
  {
   "cell_type": "code",
   "execution_count": 225,
   "metadata": {
    "collapsed": false
   },
   "outputs": [
    {
     "data": {
      "text/plain": [
       "(163, 1)"
      ]
     },
     "execution_count": 225,
     "metadata": {},
     "output_type": "execute_result"
    }
   ],
   "source": [
    "wei2.shape"
   ]
  },
  {
   "cell_type": "code",
   "execution_count": 215,
   "metadata": {
    "collapsed": false
   },
   "outputs": [
    {
     "name": "stdout",
     "output_type": "stream",
     "text": [
      "6.88156521329\n"
     ]
    }
   ],
   "source": [
    "wei = np.zeros((325,1))\n",
    "lr = 0.1\n",
    "iteration = 50000\n",
    "pre_gra = 0\n",
    "\n",
    "for p in range(iteration):\n",
    "    gradient = np.zeros_like(wei)\n",
    "    gradient = (2*(train_xx.dot(wei) + - train_yy).T.dot(train_xx).T)\n",
    "    pre_gra += gradient**2\n",
    "    adg = np.sqrt(pre_gra)\n",
    "    wei = wei - lr/adg*gradient\n",
    "\n",
    "print(np.sqrt(np.mean(np.square(train_yy - train_xx.dot(wei)))))"
   ]
  },
  {
   "cell_type": "code",
   "execution_count": 221,
   "metadata": {
    "collapsed": false
   },
   "outputs": [],
   "source": [
    "wei2 = np.zeros((163,1))\n",
    "for i in range(1,163):\n",
    "    wei2[i] = wei[i]+wei[162+i]\n",
    "    \n",
    "wei2[0] = wei[0]"
   ]
  },
  {
   "cell_type": "markdown",
   "metadata": {},
   "source": [
    "# loss function y = b + sigma(wx^2)"
   ]
  },
  {
   "cell_type": "code",
   "execution_count": 234,
   "metadata": {
    "collapsed": true
   },
   "outputs": [],
   "source": [
    "train_x2 = [] #features 共5751組 一組有163個 第一個是1跟bias相乘\n",
    "train_y = [] #PM2.5 answer\n",
    "\n",
    "train_y.append(train_data[9, 9:])\n",
    "train_y= np.asarray(train_y).reshape(5751, 1)\n",
    "\n",
    "for t in range(5751):\n",
    "    train_x2.append(1)\n",
    "    for j in range(18):\n",
    "        for i in range(9):\n",
    "            train_x2.append(train_data[j,i+t]*train_data[j,i+t])\n",
    "\n",
    "train_x2 = np.asarray(train_x2).reshape(5751, 163)"
   ]
  },
  {
   "cell_type": "code",
   "execution_count": 235,
   "metadata": {
    "collapsed": false
   },
   "outputs": [
    {
     "name": "stdout",
     "output_type": "stream",
     "text": [
      "7.83866093327\n"
     ]
    }
   ],
   "source": [
    "wei = np.zeros((163,1))\n",
    "lr = 0.05\n",
    "iteration = 80000\n",
    "pre_gra = 0\n",
    "\n",
    "for p in range(iteration):\n",
    "    gradient = np.zeros_like(wei)\n",
    "    gradient = (2*(train_x2.dot(wei) - train_y).T.dot(train_x2).T)\n",
    "    pre_gra += gradient**2\n",
    "    adg = np.sqrt(pre_gra)\n",
    "    wei = wei - lr/adg*gradient\n",
    "\n",
    "print(np.sqrt(np.mean(np.square(train_y - train_x2.dot(wei)))))"
   ]
  },
  {
   "cell_type": "markdown",
   "metadata": {},
   "source": [
    "# 不同訓練資料量"
   ]
  },
  {
   "cell_type": "code",
   "execution_count": 121,
   "metadata": {
    "collapsed": false
   },
   "outputs": [],
   "source": [
    "train_x = [] #features 共5751組 一組有163個 第一個是1跟bias相乘\n",
    "train_y = [] #PM2.5 answer\n",
    "\n",
    "train_y.append(train_data[9, 9:])\n",
    "train_y= np.asarray(train_y).reshape(5751, 1)\n",
    "\n",
    "for t in range(5751):\n",
    "    train_x.append(1)\n",
    "    for j in range(18):\n",
    "        for i in range(9):\n",
    "            train_x.append(train_data[j,i+t])\n",
    "\n",
    "train_x = np.asarray(train_x).reshape(5751, 163)"
   ]
  },
  {
   "cell_type": "code",
   "execution_count": 115,
   "metadata": {
    "collapsed": false
   },
   "outputs": [
    {
     "ename": "KeyboardInterrupt",
     "evalue": "",
     "output_type": "error",
     "traceback": [
      "\u001b[0;31m---------------------------------------------------------------------------\u001b[0m",
      "\u001b[0;31mKeyboardInterrupt\u001b[0m                         Traceback (most recent call last)",
      "\u001b[0;32m<ipython-input-115-f6963c5b5e14>\u001b[0m in \u001b[0;36m<module>\u001b[0;34m()\u001b[0m\n\u001b[1;32m      6\u001b[0m \u001b[0;32mfor\u001b[0m \u001b[0mp\u001b[0m \u001b[0;32min\u001b[0m \u001b[0mrange\u001b[0m\u001b[0;34m(\u001b[0m\u001b[0miteration\u001b[0m\u001b[0;34m)\u001b[0m\u001b[0;34m:\u001b[0m\u001b[0;34m\u001b[0m\u001b[0m\n\u001b[1;32m      7\u001b[0m     \u001b[0mgradient\u001b[0m \u001b[0;34m=\u001b[0m \u001b[0mnp\u001b[0m\u001b[0;34m.\u001b[0m\u001b[0mzeros_like\u001b[0m\u001b[0;34m(\u001b[0m\u001b[0mwei\u001b[0m\u001b[0;34m)\u001b[0m\u001b[0;34m\u001b[0m\u001b[0m\n\u001b[0;32m----> 8\u001b[0;31m     \u001b[0mgradient\u001b[0m \u001b[0;34m=\u001b[0m \u001b[0;34m(\u001b[0m\u001b[0;36m2\u001b[0m\u001b[0;34m*\u001b[0m\u001b[0;34m(\u001b[0m\u001b[0mtrain_xx\u001b[0m\u001b[0;34m.\u001b[0m\u001b[0mdot\u001b[0m\u001b[0;34m(\u001b[0m\u001b[0mwei\u001b[0m\u001b[0;34m)\u001b[0m \u001b[0;34m-\u001b[0m \u001b[0mtrain_y\u001b[0m\u001b[0;34m)\u001b[0m\u001b[0;34m.\u001b[0m\u001b[0mT\u001b[0m\u001b[0;34m.\u001b[0m\u001b[0mdot\u001b[0m\u001b[0;34m(\u001b[0m\u001b[0mtrain_xx\u001b[0m\u001b[0;34m)\u001b[0m\u001b[0;34m.\u001b[0m\u001b[0mT\u001b[0m\u001b[0;34m)\u001b[0m\u001b[0;34m\u001b[0m\u001b[0m\n\u001b[0m\u001b[1;32m      9\u001b[0m     \u001b[0mpre_gra\u001b[0m \u001b[0;34m+=\u001b[0m \u001b[0mgradient\u001b[0m\u001b[0;34m**\u001b[0m\u001b[0;36m2\u001b[0m\u001b[0;34m\u001b[0m\u001b[0m\n\u001b[1;32m     10\u001b[0m     \u001b[0madg\u001b[0m \u001b[0;34m=\u001b[0m \u001b[0mnp\u001b[0m\u001b[0;34m.\u001b[0m\u001b[0msqrt\u001b[0m\u001b[0;34m(\u001b[0m\u001b[0mpre_gra\u001b[0m\u001b[0;34m)\u001b[0m\u001b[0;34m\u001b[0m\u001b[0m\n",
      "\u001b[0;31mKeyboardInterrupt\u001b[0m: "
     ]
    }
   ],
   "source": [
    "wei = np.zeros((163,1))\n",
    "lr = 0.05\n",
    "iteration = 80000\n",
    "pre_gra = 0\n",
    "\n",
    "for p in range(iteration):\n",
    "    gradient = np.zeros_like(wei)\n",
    "    gradient = (2*(train_xx.dot(wei) - train_y).T.dot(train_xx).T)\n",
    "    pre_gra += gradient**2\n",
    "    adg = np.sqrt(pre_gra)\n",
    "    wei = wei - lr/adg*gradient\n",
    "\n",
    "print(np.sqrt(np.mean(np.square(train_y - train_xx.dot(wei)))))"
   ]
  },
  {
   "cell_type": "markdown",
   "metadata": {},
   "source": [
    "# gradient descent"
   ]
  },
  {
   "cell_type": "code",
   "execution_count": 103,
   "metadata": {
    "collapsed": false
   },
   "outputs": [
    {
     "data": {
      "text/plain": [
       "196.0"
      ]
     },
     "execution_count": 103,
     "metadata": {},
     "output_type": "execute_result"
    }
   ],
   "source": [
    "train_x[0][1]\n"
   ]
  },
  {
   "cell_type": "code",
   "execution_count": 75,
   "metadata": {
    "collapsed": false
   },
   "outputs": [
    {
     "data": {
      "text/plain": [
       "(5751, 163)"
      ]
     },
     "execution_count": 75,
     "metadata": {},
     "output_type": "execute_result"
    }
   ],
   "source": [
    "train_x.shape"
   ]
  },
  {
   "cell_type": "code",
   "execution_count": 107,
   "metadata": {
    "collapsed": false
   },
   "outputs": [
    {
     "name": "stdout",
     "output_type": "stream",
     "text": [
      "7.83866093327\n"
     ]
    }
   ],
   "source": [
    "wei = np.zeros((163,1))\n",
    "lr = 0.05\n",
    "iteration = 80000\n",
    "pre_gra = 0\n",
    "\n",
    "for p in range(iteration):\n",
    "    gradient = np.zeros_like(wei)\n",
    "    gradient = (2*(train_x.dot(wei) - train_y).T.dot(train_x).T)\n",
    "    pre_gra += gradient**2\n",
    "    adg = np.sqrt(pre_gra)\n",
    "    wei = wei - lr/adg*gradient\n",
    "\n",
    "print(np.sqrt(np.mean(np.square(train_y - train_x.dot(wei)))))"
   ]
  },
  {
   "cell_type": "code",
   "execution_count": null,
   "metadata": {
    "collapsed": true
   },
   "outputs": [],
   "source": []
  },
  {
   "cell_type": "code",
   "execution_count": 28,
   "metadata": {
    "collapsed": false
   },
   "outputs": [
    {
     "ename": "ValueError",
     "evalue": "x and y must have same first dimension",
     "output_type": "error",
     "traceback": [
      "\u001b[0;31m---------------------------------------------------------------------------\u001b[0m",
      "\u001b[0;31mValueError\u001b[0m                                Traceback (most recent call last)",
      "\u001b[0;32m<ipython-input-28-8ceed9fe287b>\u001b[0m in \u001b[0;36m<module>\u001b[0;34m()\u001b[0m\n\u001b[1;32m     14\u001b[0m         \u001b[0mwei\u001b[0m \u001b[0;34m=\u001b[0m \u001b[0mwei\u001b[0m \u001b[0;34m-\u001b[0m \u001b[0mlr\u001b[0m\u001b[0;34m/\u001b[0m\u001b[0madg\u001b[0m\u001b[0;34m*\u001b[0m\u001b[0mgradient\u001b[0m\u001b[0;34m\u001b[0m\u001b[0m\n\u001b[1;32m     15\u001b[0m \u001b[0;34m\u001b[0m\u001b[0m\n\u001b[0;32m---> 16\u001b[0;31m     \u001b[0mplt\u001b[0m\u001b[0;34m.\u001b[0m\u001b[0mplot\u001b[0m\u001b[0;34m(\u001b[0m\u001b[0mlamda\u001b[0m\u001b[0;34m,\u001b[0m \u001b[0mtrain_x\u001b[0m\u001b[0;34m,\u001b[0m \u001b[0mcolor\u001b[0m\u001b[0;34m=\u001b[0m\u001b[0;34m'blue'\u001b[0m\u001b[0;34m)\u001b[0m\u001b[0;34m\u001b[0m\u001b[0m\n\u001b[0m\u001b[1;32m     17\u001b[0m     \u001b[0mplt\u001b[0m\u001b[0;34m.\u001b[0m\u001b[0mxlabel\u001b[0m\u001b[0;34m(\u001b[0m\u001b[0;34m'lamda'\u001b[0m\u001b[0;34m)\u001b[0m\u001b[0;34m\u001b[0m\u001b[0m\n\u001b[1;32m     18\u001b[0m     \u001b[0mplt\u001b[0m\u001b[0;34m.\u001b[0m\u001b[0mplot\u001b[0m\u001b[0;34m(\u001b[0m\u001b[0mlamda\u001b[0m\u001b[0;34m,\u001b[0m \u001b[0mtrain_y\u001b[0m\u001b[0;34m,\u001b[0m \u001b[0mcolor\u001b[0m\u001b[0;34m=\u001b[0m\u001b[0;34m'red'\u001b[0m\u001b[0;34m)\u001b[0m\u001b[0;34m\u001b[0m\u001b[0m\n",
      "\u001b[0;32m/Users/nickball007/anaconda/lib/python3.5/site-packages/matplotlib/pyplot.py\u001b[0m in \u001b[0;36mplot\u001b[0;34m(*args, **kwargs)\u001b[0m\n\u001b[1;32m   3159\u001b[0m         \u001b[0max\u001b[0m\u001b[0;34m.\u001b[0m\u001b[0mhold\u001b[0m\u001b[0;34m(\u001b[0m\u001b[0mhold\u001b[0m\u001b[0;34m)\u001b[0m\u001b[0;34m\u001b[0m\u001b[0m\n\u001b[1;32m   3160\u001b[0m     \u001b[0;32mtry\u001b[0m\u001b[0;34m:\u001b[0m\u001b[0;34m\u001b[0m\u001b[0m\n\u001b[0;32m-> 3161\u001b[0;31m         \u001b[0mret\u001b[0m \u001b[0;34m=\u001b[0m \u001b[0max\u001b[0m\u001b[0;34m.\u001b[0m\u001b[0mplot\u001b[0m\u001b[0;34m(\u001b[0m\u001b[0;34m*\u001b[0m\u001b[0margs\u001b[0m\u001b[0;34m,\u001b[0m \u001b[0;34m**\u001b[0m\u001b[0mkwargs\u001b[0m\u001b[0;34m)\u001b[0m\u001b[0;34m\u001b[0m\u001b[0m\n\u001b[0m\u001b[1;32m   3162\u001b[0m     \u001b[0;32mfinally\u001b[0m\u001b[0;34m:\u001b[0m\u001b[0;34m\u001b[0m\u001b[0m\n\u001b[1;32m   3163\u001b[0m         \u001b[0max\u001b[0m\u001b[0;34m.\u001b[0m\u001b[0mhold\u001b[0m\u001b[0;34m(\u001b[0m\u001b[0mwashold\u001b[0m\u001b[0;34m)\u001b[0m\u001b[0;34m\u001b[0m\u001b[0m\n",
      "\u001b[0;32m/Users/nickball007/anaconda/lib/python3.5/site-packages/matplotlib/__init__.py\u001b[0m in \u001b[0;36minner\u001b[0;34m(ax, *args, **kwargs)\u001b[0m\n\u001b[1;32m   1817\u001b[0m                     warnings.warn(msg % (label_namer, func.__name__),\n\u001b[1;32m   1818\u001b[0m                                   RuntimeWarning, stacklevel=2)\n\u001b[0;32m-> 1819\u001b[0;31m             \u001b[0;32mreturn\u001b[0m \u001b[0mfunc\u001b[0m\u001b[0;34m(\u001b[0m\u001b[0max\u001b[0m\u001b[0;34m,\u001b[0m \u001b[0;34m*\u001b[0m\u001b[0margs\u001b[0m\u001b[0;34m,\u001b[0m \u001b[0;34m**\u001b[0m\u001b[0mkwargs\u001b[0m\u001b[0;34m)\u001b[0m\u001b[0;34m\u001b[0m\u001b[0m\n\u001b[0m\u001b[1;32m   1820\u001b[0m         \u001b[0mpre_doc\u001b[0m \u001b[0;34m=\u001b[0m \u001b[0minner\u001b[0m\u001b[0;34m.\u001b[0m\u001b[0m__doc__\u001b[0m\u001b[0;34m\u001b[0m\u001b[0m\n\u001b[1;32m   1821\u001b[0m         \u001b[0;32mif\u001b[0m \u001b[0mpre_doc\u001b[0m \u001b[0;32mis\u001b[0m \u001b[0;32mNone\u001b[0m\u001b[0;34m:\u001b[0m\u001b[0;34m\u001b[0m\u001b[0m\n",
      "\u001b[0;32m/Users/nickball007/anaconda/lib/python3.5/site-packages/matplotlib/axes/_axes.py\u001b[0m in \u001b[0;36mplot\u001b[0;34m(self, *args, **kwargs)\u001b[0m\n\u001b[1;32m   1380\u001b[0m         \u001b[0mkwargs\u001b[0m \u001b[0;34m=\u001b[0m \u001b[0mcbook\u001b[0m\u001b[0;34m.\u001b[0m\u001b[0mnormalize_kwargs\u001b[0m\u001b[0;34m(\u001b[0m\u001b[0mkwargs\u001b[0m\u001b[0;34m,\u001b[0m \u001b[0m_alias_map\u001b[0m\u001b[0;34m)\u001b[0m\u001b[0;34m\u001b[0m\u001b[0m\n\u001b[1;32m   1381\u001b[0m \u001b[0;34m\u001b[0m\u001b[0m\n\u001b[0;32m-> 1382\u001b[0;31m         \u001b[0;32mfor\u001b[0m \u001b[0mline\u001b[0m \u001b[0;32min\u001b[0m \u001b[0mself\u001b[0m\u001b[0;34m.\u001b[0m\u001b[0m_get_lines\u001b[0m\u001b[0;34m(\u001b[0m\u001b[0;34m*\u001b[0m\u001b[0margs\u001b[0m\u001b[0;34m,\u001b[0m \u001b[0;34m**\u001b[0m\u001b[0mkwargs\u001b[0m\u001b[0;34m)\u001b[0m\u001b[0;34m:\u001b[0m\u001b[0;34m\u001b[0m\u001b[0m\n\u001b[0m\u001b[1;32m   1383\u001b[0m             \u001b[0mself\u001b[0m\u001b[0;34m.\u001b[0m\u001b[0madd_line\u001b[0m\u001b[0;34m(\u001b[0m\u001b[0mline\u001b[0m\u001b[0;34m)\u001b[0m\u001b[0;34m\u001b[0m\u001b[0m\n\u001b[1;32m   1384\u001b[0m             \u001b[0mlines\u001b[0m\u001b[0;34m.\u001b[0m\u001b[0mappend\u001b[0m\u001b[0;34m(\u001b[0m\u001b[0mline\u001b[0m\u001b[0;34m)\u001b[0m\u001b[0;34m\u001b[0m\u001b[0m\n",
      "\u001b[0;32m/Users/nickball007/anaconda/lib/python3.5/site-packages/matplotlib/axes/_base.py\u001b[0m in \u001b[0;36m_grab_next_args\u001b[0;34m(self, *args, **kwargs)\u001b[0m\n\u001b[1;32m    379\u001b[0m                 \u001b[0;32mreturn\u001b[0m\u001b[0;34m\u001b[0m\u001b[0m\n\u001b[1;32m    380\u001b[0m             \u001b[0;32mif\u001b[0m \u001b[0mlen\u001b[0m\u001b[0;34m(\u001b[0m\u001b[0mremaining\u001b[0m\u001b[0;34m)\u001b[0m \u001b[0;34m<=\u001b[0m \u001b[0;36m3\u001b[0m\u001b[0;34m:\u001b[0m\u001b[0;34m\u001b[0m\u001b[0m\n\u001b[0;32m--> 381\u001b[0;31m                 \u001b[0;32mfor\u001b[0m \u001b[0mseg\u001b[0m \u001b[0;32min\u001b[0m \u001b[0mself\u001b[0m\u001b[0;34m.\u001b[0m\u001b[0m_plot_args\u001b[0m\u001b[0;34m(\u001b[0m\u001b[0mremaining\u001b[0m\u001b[0;34m,\u001b[0m \u001b[0mkwargs\u001b[0m\u001b[0;34m)\u001b[0m\u001b[0;34m:\u001b[0m\u001b[0;34m\u001b[0m\u001b[0m\n\u001b[0m\u001b[1;32m    382\u001b[0m                     \u001b[0;32myield\u001b[0m \u001b[0mseg\u001b[0m\u001b[0;34m\u001b[0m\u001b[0m\n\u001b[1;32m    383\u001b[0m                 \u001b[0;32mreturn\u001b[0m\u001b[0;34m\u001b[0m\u001b[0m\n",
      "\u001b[0;32m/Users/nickball007/anaconda/lib/python3.5/site-packages/matplotlib/axes/_base.py\u001b[0m in \u001b[0;36m_plot_args\u001b[0;34m(self, tup, kwargs)\u001b[0m\n\u001b[1;32m    357\u001b[0m             \u001b[0mx\u001b[0m\u001b[0;34m,\u001b[0m \u001b[0my\u001b[0m \u001b[0;34m=\u001b[0m \u001b[0mindex_of\u001b[0m\u001b[0;34m(\u001b[0m\u001b[0mtup\u001b[0m\u001b[0;34m[\u001b[0m\u001b[0;34m-\u001b[0m\u001b[0;36m1\u001b[0m\u001b[0;34m]\u001b[0m\u001b[0;34m)\u001b[0m\u001b[0;34m\u001b[0m\u001b[0m\n\u001b[1;32m    358\u001b[0m \u001b[0;34m\u001b[0m\u001b[0m\n\u001b[0;32m--> 359\u001b[0;31m         \u001b[0mx\u001b[0m\u001b[0;34m,\u001b[0m \u001b[0my\u001b[0m \u001b[0;34m=\u001b[0m \u001b[0mself\u001b[0m\u001b[0;34m.\u001b[0m\u001b[0m_xy_from_xy\u001b[0m\u001b[0;34m(\u001b[0m\u001b[0mx\u001b[0m\u001b[0;34m,\u001b[0m \u001b[0my\u001b[0m\u001b[0;34m)\u001b[0m\u001b[0;34m\u001b[0m\u001b[0m\n\u001b[0m\u001b[1;32m    360\u001b[0m \u001b[0;34m\u001b[0m\u001b[0m\n\u001b[1;32m    361\u001b[0m         \u001b[0;32mif\u001b[0m \u001b[0mself\u001b[0m\u001b[0;34m.\u001b[0m\u001b[0mcommand\u001b[0m \u001b[0;34m==\u001b[0m \u001b[0;34m'plot'\u001b[0m\u001b[0;34m:\u001b[0m\u001b[0;34m\u001b[0m\u001b[0m\n",
      "\u001b[0;32m/Users/nickball007/anaconda/lib/python3.5/site-packages/matplotlib/axes/_base.py\u001b[0m in \u001b[0;36m_xy_from_xy\u001b[0;34m(self, x, y)\u001b[0m\n\u001b[1;32m    217\u001b[0m         \u001b[0my\u001b[0m \u001b[0;34m=\u001b[0m \u001b[0m_check_1d\u001b[0m\u001b[0;34m(\u001b[0m\u001b[0my\u001b[0m\u001b[0;34m)\u001b[0m\u001b[0;34m\u001b[0m\u001b[0m\n\u001b[1;32m    218\u001b[0m         \u001b[0;32mif\u001b[0m \u001b[0mx\u001b[0m\u001b[0;34m.\u001b[0m\u001b[0mshape\u001b[0m\u001b[0;34m[\u001b[0m\u001b[0;36m0\u001b[0m\u001b[0;34m]\u001b[0m \u001b[0;34m!=\u001b[0m \u001b[0my\u001b[0m\u001b[0;34m.\u001b[0m\u001b[0mshape\u001b[0m\u001b[0;34m[\u001b[0m\u001b[0;36m0\u001b[0m\u001b[0;34m]\u001b[0m\u001b[0;34m:\u001b[0m\u001b[0;34m\u001b[0m\u001b[0m\n\u001b[0;32m--> 219\u001b[0;31m             \u001b[0;32mraise\u001b[0m \u001b[0mValueError\u001b[0m\u001b[0;34m(\u001b[0m\u001b[0;34m\"x and y must have same first dimension\"\u001b[0m\u001b[0;34m)\u001b[0m\u001b[0;34m\u001b[0m\u001b[0m\n\u001b[0m\u001b[1;32m    220\u001b[0m         \u001b[0;32mif\u001b[0m \u001b[0mx\u001b[0m\u001b[0;34m.\u001b[0m\u001b[0mndim\u001b[0m \u001b[0;34m>\u001b[0m \u001b[0;36m2\u001b[0m \u001b[0;32mor\u001b[0m \u001b[0my\u001b[0m\u001b[0;34m.\u001b[0m\u001b[0mndim\u001b[0m \u001b[0;34m>\u001b[0m \u001b[0;36m2\u001b[0m\u001b[0;34m:\u001b[0m\u001b[0;34m\u001b[0m\u001b[0m\n\u001b[1;32m    221\u001b[0m             \u001b[0;32mraise\u001b[0m \u001b[0mValueError\u001b[0m\u001b[0;34m(\u001b[0m\u001b[0;34m\"x and y can be no greater than 2-D\"\u001b[0m\u001b[0;34m)\u001b[0m\u001b[0;34m\u001b[0m\u001b[0m\n",
      "\u001b[0;31mValueError\u001b[0m: x and y must have same first dimension"
     ]
    }
   ],
   "source": [
    "wei = np.zeros((163,1))\n",
    "lr = 0.05\n",
    "iteration = 50000\n",
    "pre_gra = 0\n",
    "x = range(1,100)\n",
    "y = range(0, 200)\n",
    "\n",
    "for lamda in range(2):\n",
    "    for p in range(iteration):\n",
    "        gradient = np.zeros_like(wei)\n",
    "        gradient = (2*(train_x.dot(wei) - train_y).T.dot(train_x).T) + 2*lamda*wei\n",
    "        pre_gra += gradient**2\n",
    "        adg = np.sqrt(pre_gra)\n",
    "        wei = wei - lr/adg*gradient  \n",
    "    \n",
    "    "
   ]
  },
  {
   "cell_type": "markdown",
   "metadata": {},
   "source": [
    "# Output predicting data"
   ]
  },
  {
   "cell_type": "code",
   "execution_count": 275,
   "metadata": {
    "collapsed": false
   },
   "outputs": [],
   "source": [
    "test_data = pd.read_csv(\"test_x.csv\", encoding='big5', header = None)\n",
    "test_data = test_data.replace('NR', 0)\n",
    "test_data1 = np.matrix((test_data.values[:, 2:]), dtype='float64')\n",
    "a = np.ones((240,1))\n",
    "test_data1 = np.hstack((a, test_data1.reshape(240,162)))\n",
    "predict = test_data1.dot(wei)\n",
    "idvalue = test_data.ix[1::18, 0]\n",
    "idvalue = idvalue.reshape((240,1))\n",
    "predict = np.hstack((idvalue,predict))\n",
    "df = pd.DataFrame(data = predict,columns = ['id','value'])\n",
    "df\n",
    "df.to_csv(\"res.csv\", index = False)"
   ]
  },
  {
   "cell_type": "code",
   "execution_count": 14,
   "metadata": {
    "collapsed": false
   },
   "outputs": [
    {
     "data": {
      "text/plain": [
       "12.0"
      ]
     },
     "execution_count": 14,
     "metadata": {},
     "output_type": "execute_result"
    }
   ],
   "source": [
    "train_x[0][8]"
   ]
  },
  {
   "cell_type": "markdown",
   "metadata": {},
   "source": [
    "# regulization 作圖"
   ]
  },
  {
   "cell_type": "code",
   "execution_count": 157,
   "metadata": {
    "collapsed": false
   },
   "outputs": [
    {
     "name": "stdout",
     "output_type": "stream",
     "text": [
      "5.79522790862\n"
     ]
    }
   ],
   "source": [
    "train_plotx = [] #features 共5751組 一組有163個 第一個是1跟bias相乘\n",
    "train_y = [] #PM2.5 answer\n",
    "\n",
    "train_y.append(train_data[9, 9:])\n",
    "train_y= np.asarray(train_y).reshape(5751, 1)\n",
    "\n",
    "for t in range(5751):\n",
    "    train_plotx.append(1)\n",
    "    for j in range(18):\n",
    "        for i in range(9):\n",
    "            train_plotx.append(train_data[j,i+t])\n",
    "\n",
    "train_plotx = np.asarray(train_plotx).reshape(5751, 163)\n",
    "    \n",
    "\n",
    "wei = np.zeros((163,1))\n",
    "lr = 0.05\n",
    "iteration = 50000\n",
    "pre_gra = 0\n",
    "\n",
    "\n",
    "for lamda in range(5):\n",
    "    for p in range(iteration):\n",
    "        gradient = np.zeros_like(wei)\n",
    "        gradient = (2*(train_x.dot(wei) - train_y).T.dot(train_x).T) + 2*lamda*wei\n",
    "        pre_gra += gradient**2\n",
    "        adg = np.sqrt(pre_gra)\n",
    "        wei = wei - lr/adg*gradient\n",
    "    \n",
    "print(np.sqrt(np.mean(np.square(train_y - train_x.dot(wei)))))\n",
    "\n"
   ]
  },
  {
   "cell_type": "code",
   "execution_count": 156,
   "metadata": {
    "collapsed": false
   },
   "outputs": [
    {
     "data": {
      "text/plain": [
       "(5751, 5)"
      ]
     },
     "execution_count": 156,
     "metadata": {},
     "output_type": "execute_result"
    }
   ],
   "source": [
    "a = train_x[:,:5]\n",
    "a.shape"
   ]
  },
  {
   "cell_type": "code",
   "execution_count": 130,
   "metadata": {
    "collapsed": false
   },
   "outputs": [
    {
     "ename": "SyntaxError",
     "evalue": "invalid syntax (<ipython-input-130-604fdf566cc4>, line 7)",
     "output_type": "error",
     "traceback": [
      "\u001b[0;36m  File \u001b[0;32m\"<ipython-input-130-604fdf566cc4>\"\u001b[0;36m, line \u001b[0;32m7\u001b[0m\n\u001b[0;31m    y = [np.sqrt(np.mean(np.square(train_y - train_x.dot(wei)))) for p in range(iteration):\u001b[0m\n\u001b[0m                                                                                          ^\u001b[0m\n\u001b[0;31mSyntaxError\u001b[0m\u001b[0;31m:\u001b[0m invalid syntax\n"
     ]
    }
   ],
   "source": [
    "wei = np.zeros((163,1))\n",
    "lr = 0.05\n",
    "iteration = 80000\n",
    "pre_gra = 0\n",
    "\n",
    "x = range(10)\n",
    "y = []\n",
    "\n",
    "plt.plot(x,y)\n",
    "plt.show()"
   ]
  },
  {
   "cell_type": "markdown",
   "metadata": {},
   "source": [
    "# Q4 data"
   ]
  },
  {
   "cell_type": "code",
   "execution_count": 149,
   "metadata": {
    "collapsed": true
   },
   "outputs": [],
   "source": [
    "Q4_train_x = [] #features 共5751組 一組有163個 第一個是1跟bias相乘\n",
    "Q4_train_y = [] #PM2.5 answer\n",
    "\n",
    "Q4_train_y.append(train_data[9, 9:])\n",
    "Q4_train_y= np.asarray(Q4_train_y).reshape(5751, 1)\n",
    "\n",
    "for t in range(5751):\n",
    "    Q4_train_x.append(1)\n",
    "    for j in range(18):\n",
    "        for i in range(9):\n",
    "            Q4_train_x.append(train_data[j,i+t])\n",
    "\n",
    "Q4_train_x = np.asarray(Q4_train_x).reshape(5751, 163)"
   ]
  },
  {
   "cell_type": "code",
   "execution_count": 150,
   "metadata": {
    "collapsed": false
   },
   "outputs": [
    {
     "name": "stdout",
     "output_type": "stream",
     "text": [
      "7.90781597345\n"
     ]
    }
   ],
   "source": [
    "wei = np.zeros((163,1))\n",
    "lr = 0.05\n",
    "iteration = 80000\n",
    "pre_gra = 0\n",
    "lamda = 1000000\n",
    "\n",
    "\n",
    "for p in range(iteration):\n",
    "    gradient = np.zeros_like(wei)\n",
    "    gradient = (2*(Q4_train_x.dot(wei) - Q4_train_y).T.dot(Q4_train_x).T) + 2*lamda*wei\n",
    "    pre_gra += gradient**2\n",
    "    adg = np.sqrt(pre_gra)\n",
    "    wei = wei - lr/adg*gradient\n",
    "\n",
    "print(np.sqrt(np.mean(np.square(Q4_train_y - Q4_train_x.dot(wei)))))"
   ]
  },
  {
   "cell_type": "code",
   "execution_count": 152,
   "metadata": {
    "collapsed": false
   },
   "outputs": [],
   "source": [
    "Q4x_axis = [0, 1, 10, 100, 1000, 10000, 100000, 1000000]\n",
    "Q4y_axis = [5.8035002089, 5.80351374246, 5.80363711771, 5.80491991888, 5.81429931262, 5.85821757751, 6.29087454307, 7.90781597345]\n",
    "\n"
   ]
  },
  {
   "cell_type": "code",
   "execution_count": null,
   "metadata": {
    "collapsed": true
   },
   "outputs": [],
   "source": []
  }
 ],
 "metadata": {
  "anaconda-cloud": {},
  "kernelspec": {
   "display_name": "Python [conda root]",
   "language": "python",
   "name": "conda-root-py"
  },
  "language_info": {
   "codemirror_mode": {
    "name": "ipython",
    "version": 3
   },
   "file_extension": ".py",
   "mimetype": "text/x-python",
   "name": "python",
   "nbconvert_exporter": "python",
   "pygments_lexer": "ipython3",
   "version": "3.5.2"
  }
 },
 "nbformat": 4,
 "nbformat_minor": 1
}
