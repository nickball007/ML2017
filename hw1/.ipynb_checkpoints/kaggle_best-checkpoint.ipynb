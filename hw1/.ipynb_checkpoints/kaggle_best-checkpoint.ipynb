{
 "cells": [
  {
   "cell_type": "code",
   "execution_count": 1,
   "metadata": {
    "collapsed": true
   },
   "outputs": [],
   "source": [
    "import csv \n",
    "import numpy as np\n",
    "import pandas as pd\n",
    "import matplotlib.pyplot as plt\n",
    "\n",
    "data = pd.read_csv(\"train.csv\",encoding='big5')\n",
    "data = data.replace('NR', 0)\n",
    "\n",
    "train_Rdata = data.drop(data.columns[[0, 1, 2]], axis=1).apply(pd.to_numeric).as_matrix()"
   ]
  },
  {
   "cell_type": "code",
   "execution_count": 2,
   "metadata": {
    "collapsed": true
   },
   "outputs": [],
   "source": [
    "train_Rdata = data.drop(data.columns[[0, 1, 2]], axis=1).apply(pd.to_numeric).as_matrix()\n",
    "data1 = train_Rdata[0::18,:].reshape(1, 5760)\n",
    "data2 = train_Rdata[1::18,:].reshape(1, 5760)\n",
    "data3 = train_Rdata[2::18,:].reshape(1, 5760)\n",
    "data4 = train_Rdata[3::18,:].reshape(1, 5760)\n",
    "data5 = train_Rdata[4::18,:].reshape(1, 5760)\n",
    "data6 = train_Rdata[5::18,:].reshape(1, 5760)\n",
    "data7 = train_Rdata[6::18,:].reshape(1, 5760)\n",
    "data8 = train_Rdata[7::18,:].reshape(1, 5760)\n",
    "data9 = train_Rdata[8::18,:].reshape(1, 5760)\n",
    "data10 = train_Rdata[9::18,:].reshape(1, 5760)\n",
    "data11 = train_Rdata[10::18,:].reshape(1, 5760)\n",
    "data12 = train_Rdata[11::18,:].reshape(1, 5760)\n",
    "data13 = train_Rdata[12::18,:].reshape(1, 5760)\n",
    "data14 = train_Rdata[13::18,:].reshape(1, 5760)\n",
    "data15 = train_Rdata[14::18,:].reshape(1, 5760)\n",
    "data16 = train_Rdata[15::18,:].reshape(1, 5760)\n",
    "data17 = train_Rdata[16::18,:].reshape(1, 5760)\n",
    "data18 = train_Rdata[17::18,:].reshape(1, 5760)\n",
    "\n",
    "train_data = np.vstack((data1, data2, data3, data4, data5, data6, data7, data8, data9, data10, data11, data12, data13, data14, data15, data16, data17, data18))\n"
   ]
  },
  {
   "cell_type": "code",
   "execution_count": 3,
   "metadata": {
    "collapsed": true
   },
   "outputs": [],
   "source": [
    "train_x = [] #features 共5751組 一組有163個 第一個是1跟bias相乘\n",
    "train_y = [] #PM2.5 answer\n",
    "\n",
    "train_y.append(train_data[9, 9:])\n",
    "train_y= np.asarray(train_y).reshape(5751, 1)\n",
    "\n",
    "for t in range(5751):\n",
    "    train_x.append(1)\n",
    "    for j in range(18):\n",
    "        for i in range(9):\n",
    "            train_x.append(train_data[j,i+t])\n",
    "\n",
    "train_x = np.asarray(train_x).reshape(5751, 163)"
   ]
  },
  {
   "cell_type": "code",
   "execution_count": 4,
   "metadata": {
    "collapsed": false
   },
   "outputs": [
    {
     "name": "stdout",
     "output_type": "stream",
     "text": [
      "5.8035002089\n"
     ]
    }
   ],
   "source": [
    "wei = np.zeros((163,1))\n",
    "lr = 0.05\n",
    "iteration = 80000\n",
    "pre_gra = 0\n",
    "\n",
    "for p in range(iteration):\n",
    "    gradient = np.zeros_like(wei)\n",
    "    gradient = (2*(train_x.dot(wei) - train_y).T.dot(train_x).T)\n",
    "    pre_gra += gradient**2\n",
    "    adg = np.sqrt(pre_gra)\n",
    "    wei = wei - lr/adg*gradient\n"
   ]
  },
  {
   "cell_type": "code",
   "execution_count": 5,
   "metadata": {
    "collapsed": true
   },
   "outputs": [],
   "source": [
    "test_data = pd.read_csv(\"test_x.csv\", encoding='big5', header = None)\n",
    "test_data = test_data.replace('NR', 0)\n",
    "test_data1 = np.matrix((test_data.values[:, 2:]), dtype='float64')\n",
    "a = np.ones((240,1))\n",
    "test_data1 = np.hstack((a, test_data1.reshape(240,162)))\n",
    "predict = test_data1.dot(wei)\n",
    "idvalue = test_data.ix[1::18, 0]\n",
    "idvalue = idvalue.reshape((240,1))\n",
    "predict = np.hstack((idvalue,predict))\n",
    "df = pd.DataFrame(data = predict,columns = ['id','value'])\n",
    "df\n",
    "df.to_csv(\"kaggle_best.csv\", index = False)"
   ]
  },
  {
   "cell_type": "code",
   "execution_count": null,
   "metadata": {
    "collapsed": true
   },
   "outputs": [],
   "source": []
  }
 ],
 "metadata": {
  "anaconda-cloud": {},
  "kernelspec": {
   "display_name": "Python [conda root]",
   "language": "python",
   "name": "conda-root-py"
  },
  "language_info": {
   "codemirror_mode": {
    "name": "ipython",
    "version": 3
   },
   "file_extension": ".py",
   "mimetype": "text/x-python",
   "name": "python",
   "nbconvert_exporter": "python",
   "pygments_lexer": "ipython3",
   "version": "3.5.2"
  }
 },
 "nbformat": 4,
 "nbformat_minor": 1
}
